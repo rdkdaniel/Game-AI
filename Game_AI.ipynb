{
  "nbformat": 4,
  "nbformat_minor": 0,
  "metadata": {
    "colab": {
      "provenance": [],
      "authorship_tag": "ABX9TyPaEBCkFLya1UXL62CPfpyD",
      "include_colab_link": true
    },
    "kernelspec": {
      "name": "python3",
      "display_name": "Python 3"
    },
    "language_info": {
      "name": "python"
    }
  },
  "cells": [
    {
      "cell_type": "markdown",
      "metadata": {
        "id": "view-in-github",
        "colab_type": "text"
      },
      "source": [
        "<a href=\"https://colab.research.google.com/github/rdkdaniel/Game-AI/blob/main/Game_AI.ipynb\" target=\"_parent\"><img src=\"https://colab.research.google.com/assets/colab-badge.svg\" alt=\"Open In Colab\"/></a>"
      ]
    },
    {
      "cell_type": "markdown",
      "source": [
        "# **Snake Game Playing AI**"
      ],
      "metadata": {
        "id": "U1Sr22D-FEdW"
      }
    },
    {
      "cell_type": "markdown",
      "source": [
        "**Introduction**\n",
        "\n",
        "\n",
        "*   Based on Reinforecment Learning\n",
        "*   Sample output is shown below\n",
        "\n"
      ],
      "metadata": {
        "id": "ROuuptTYFLK8"
      }
    },
    {
      "cell_type": "markdown",
      "source": [
        "**Essentials**\n",
        "\n",
        "\n",
        "\n",
        "*   Deep Learning (Dense Neural Network)\n",
        "*   Reinforcement Learning\n",
        "*   Pygame - a cross-platform set of Python modules designed for writing video games.\n",
        "\n",
        "\n",
        "\n"
      ],
      "metadata": {
        "id": "ars5ibmQFcNN"
      }
    },
    {
      "cell_type": "markdown",
      "source": [
        "What is needed?\n",
        "Three modules are used to develop this game playing AI.\n",
        "\n",
        "\n",
        "*   The Enviornment - The game itself\n",
        "*   The model - Using reinforcement learning a model is designed to predict the next move in the game\n",
        "*   The agent - intermediary that connects the envionment to the model\n",
        "\n"
      ],
      "metadata": {
        "id": "3RYMfFUVHdmr"
      }
    },
    {
      "cell_type": "markdown",
      "source": [
        "The image below summarizes these three modules and how they will work together.\n",
        "\n",
        "https://www.geeksforgeeks.org/ai-driven-snake-game-using-deep-q-learning/\n",
        "\n",
        "https://subscription.packtpub.com/book/big-data-and-business-intelligence/9781789801651/1/ch01lvl1sec06/python-for-game-ai"
      ],
      "metadata": {
        "id": "TuW-f7EjHcFo"
      }
    },
    {
      "cell_type": "code",
      "execution_count": null,
      "metadata": {
        "id": "RFCbGiKpEbS4"
      },
      "outputs": [],
      "source": []
    }
  ]
}