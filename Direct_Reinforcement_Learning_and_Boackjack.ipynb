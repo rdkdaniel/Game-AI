{
  "nbformat": 4,
  "nbformat_minor": 0,
  "metadata": {
    "colab": {
      "provenance": [],
      "authorship_tag": "ABX9TyOKw2/YGKYXp80ymFg1olfA",
      "include_colab_link": true
    },
    "kernelspec": {
      "name": "python3",
      "display_name": "Python 3"
    },
    "language_info": {
      "name": "python"
    }
  },
  "cells": [
    {
      "cell_type": "markdown",
      "metadata": {
        "id": "view-in-github",
        "colab_type": "text"
      },
      "source": [
        "<a href=\"https://colab.research.google.com/github/rdkdaniel/Game-AI/blob/main/Direct_Reinforcement_Learning_and_Boackjack.ipynb\" target=\"_parent\"><img src=\"https://colab.research.google.com/assets/colab-badge.svg\" alt=\"Open In Colab\"/></a>"
      ]
    },
    {
      "cell_type": "markdown",
      "source": [
        "# **Overview**"
      ],
      "metadata": {
        "id": "CouG3GO4UbyY"
      }
    },
    {
      "cell_type": "markdown",
      "source": [
        "Good read: https://towardsdatascience.com/introduction-to-direct-reinforcement-learning-by-example-3f69af9353b2"
      ],
      "metadata": {
        "id": "-OR-2Q3lUdzf"
      }
    },
    {
      "cell_type": "markdown",
      "source": [
        "Summarize paper and practical below."
      ],
      "metadata": {
        "id": "t0HkGoPMUiNs"
      }
    },
    {
      "cell_type": "code",
      "execution_count": null,
      "metadata": {
        "id": "iN8Yec8AUW7Z"
      },
      "outputs": [],
      "source": []
    }
  ]
}