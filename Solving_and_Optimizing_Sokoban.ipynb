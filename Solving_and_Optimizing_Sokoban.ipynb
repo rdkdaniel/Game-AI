{
  "nbformat": 4,
  "nbformat_minor": 0,
  "metadata": {
    "colab": {
      "provenance": [],
      "authorship_tag": "ABX9TyPci1hS8uNGHb9TQDQWyuY2",
      "include_colab_link": true
    },
    "kernelspec": {
      "name": "python3",
      "display_name": "Python 3"
    },
    "language_info": {
      "name": "python"
    }
  },
  "cells": [
    {
      "cell_type": "markdown",
      "metadata": {
        "id": "view-in-github",
        "colab_type": "text"
      },
      "source": [
        "<a href=\"https://colab.research.google.com/github/rdkdaniel/Game-AI/blob/main/Solving_and_Optimizing_Sokoban.ipynb\" target=\"_parent\"><img src=\"https://colab.research.google.com/assets/colab-badge.svg\" alt=\"Open In Colab\"/></a>"
      ]
    },
    {
      "cell_type": "markdown",
      "source": [
        "# **Overview**"
      ],
      "metadata": {
        "id": "ZR88s7Z8w3q6"
      }
    },
    {
      "cell_type": "markdown",
      "source": [
        "In this notebook, I research and implement models/algorithms to first solve Sokobna.\n",
        "\n",
        "Thereafter, I try to optimize these solutions as well as existing ones."
      ],
      "metadata": {
        "id": "4zuJMu73wX-H"
      }
    },
    {
      "cell_type": "markdown",
      "source": [
        "Key links: \n",
        "*   https://github.com/joriswit/YASS\n",
        "*   https://timallanwheeler.com/blog/2022/01/19/basic-search-algorithms-on-sokoban/\n",
        "*   https://github.com/ndobromirov/php-sokoban\n",
        "*   List item\n",
        "\n",
        "\n"
      ],
      "metadata": {
        "id": "6i-jBVpPwsBn"
      }
    },
    {
      "cell_type": "code",
      "execution_count": null,
      "metadata": {
        "id": "v3zzrLM0wVWp"
      },
      "outputs": [],
      "source": []
    }
  ]
}