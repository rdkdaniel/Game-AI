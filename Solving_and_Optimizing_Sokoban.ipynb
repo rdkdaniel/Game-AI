{
  "nbformat": 4,
  "nbformat_minor": 0,
  "metadata": {
    "colab": {
      "provenance": [],
      "authorship_tag": "ABX9TyPRzk0RSSJlgfaSjCjsEGQ1",
      "include_colab_link": true
    },
    "kernelspec": {
      "name": "python3",
      "display_name": "Python 3"
    },
    "language_info": {
      "name": "python"
    }
  },
  "cells": [
    {
      "cell_type": "markdown",
      "metadata": {
        "id": "view-in-github",
        "colab_type": "text"
      },
      "source": [
        "<a href=\"https://colab.research.google.com/github/rdkdaniel/Game-AI/blob/main/Solving_and_Optimizing_Sokoban.ipynb\" target=\"_parent\"><img src=\"https://colab.research.google.com/assets/colab-badge.svg\" alt=\"Open In Colab\"/></a>"
      ]
    },
    {
      "cell_type": "markdown",
      "source": [
        "# **Overview**"
      ],
      "metadata": {
        "id": "ZR88s7Z8w3q6"
      }
    },
    {
      "cell_type": "markdown",
      "source": [
        "In this notebook, I research and implement models/algorithms to first solve Sokobna.\n",
        "\n",
        "Thereafter, I try to optimize these solutions as well as existing ones."
      ],
      "metadata": {
        "id": "4zuJMu73wX-H"
      }
    },
    {
      "cell_type": "markdown",
      "source": [
        "Key links: \n",
        "*   https://github.com/joriswit/YASS\n",
        "*   https://timallanwheeler.com/blog/2022/01/19/basic-search-algorithms-on-sokoban/\n",
        "*   https://github.com/ndobromirov/php-sokoban\n",
        "*   List item\n",
        "\n",
        "\n"
      ],
      "metadata": {
        "id": "6i-jBVpPwsBn"
      }
    },
    {
      "cell_type": "code",
      "execution_count": null,
      "metadata": {
        "id": "v3zzrLM0wVWp"
      },
      "outputs": [],
      "source": []
    },
    {
      "cell_type": "markdown",
      "source": [
        "# **Implmenting Sokoban**"
      ],
      "metadata": {
        "id": "vGJc7O3vgVWs"
      }
    },
    {
      "cell_type": "markdown",
      "source": [
        "## **Libraries**"
      ],
      "metadata": {
        "id": "CtwE7p7Eggoi"
      }
    },
    {
      "cell_type": "code",
      "source": [
        "import sys\n",
        "import collections\n",
        "import numpy as np\n",
        "import heapq\n",
        "import time"
      ],
      "metadata": {
        "id": "Ou7uPJTZgjmX"
      },
      "execution_count": 1,
      "outputs": []
    },
    {
      "cell_type": "markdown",
      "source": [
        "## **Others**"
      ],
      "metadata": {
        "id": "jsbLw2_Og0hk"
      }
    },
    {
      "cell_type": "markdown",
      "source": [
        "**Priority DB**"
      ],
      "metadata": {
        "id": "5vcRaU38g_4t"
      }
    },
    {
      "cell_type": "code",
      "source": [
        "class PriorityQueue:\n",
        "    def  __init__(self):\n",
        "        self.Heap = []\n",
        "        self.Count = 0\n",
        "\n",
        "    def push(self, item, priority):\n",
        "        entry = (priority, self.Count, item)\n",
        "        heapq.heappush(self.Heap, entry)\n",
        "        self.Count += 1\n",
        "\n",
        "    def pop(self):\n",
        "        (_, _, item) = heapq.heappop(self.Heap)\n",
        "        return item\n",
        "\n",
        "    def isEmpty(self):\n",
        "        return len(self.Heap) == 0"
      ],
      "metadata": {
        "id": "N0A9mZpNg2X9"
      },
      "execution_count": 3,
      "outputs": []
    },
    {
      "cell_type": "markdown",
      "source": [
        "## **Loading Puzzles and Sokoban Rules**"
      ],
      "metadata": {
        "id": "GZp-MNephDg7"
      }
    },
    {
      "cell_type": "code",
      "source": [
        "def transferToGameState(layout):\n",
        "    \"\"\"Transfer the layout of initial puzzle\"\"\"\n",
        "    layout = [x.replace('\\n','') for x in layout]\n",
        "    layout = [','.join(layout[i]) for i in range(len(layout))]\n",
        "    layout = [x.split(',') for x in layout]\n",
        "    maxColsNum = max([len(x) for x in layout])\n",
        "    for irow in range(len(layout)):\n",
        "        for icol in range(len(layout[irow])):\n",
        "            if layout[irow][icol] == ' ': layout[irow][icol] = 0   # free space\n",
        "            elif layout[irow][icol] == '#': layout[irow][icol] = 1 # wall\n",
        "            elif layout[irow][icol] == '&': layout[irow][icol] = 2 # player\n",
        "            elif layout[irow][icol] == 'B': layout[irow][icol] = 3 # box\n",
        "            elif layout[irow][icol] == '.': layout[irow][icol] = 4 # goal\n",
        "            elif layout[irow][icol] == 'X': layout[irow][icol] = 5 # box on goal\n",
        "        colsNum = len(layout[irow])\n",
        "        if colsNum < maxColsNum:\n",
        "            layout[irow].extend([1 for _ in range(maxColsNum-colsNum)]) \n",
        "    return np.array(layout)\n",
        "\n",
        "def PosOfPlayer(gameState):\n",
        "    \"\"\"Return the position of agent\"\"\"\n",
        "    return tuple(np.argwhere(gameState == 2)[0]) # e.g. (2, 2)\n",
        "\n",
        "def PosOfBoxes(gameState):\n",
        "    \"\"\"Return the positions of boxes\"\"\"\n",
        "    return tuple(tuple(x) for x in np.argwhere((gameState == 3) | (gameState == 5))) # e.g. ((2, 3), (3, 4), (4, 4), (6, 1), (6, 4), (6, 5))\n",
        "\n",
        "def PosOfWalls(gameState):\n",
        "    \"\"\"Return the positions of walls\"\"\"\n",
        "    return tuple(tuple(x) for x in np.argwhere(gameState == 1)) # e.g. like those above\n",
        "\n",
        "def PosOfGoals(gameState):\n",
        "    \"\"\"Return the positions of goals\"\"\"\n",
        "    return tuple(tuple(x) for x in np.argwhere((gameState == 4) | (gameState == 5))) # e.g. like those above\n",
        "\n",
        "def isEndState(posBox):\n",
        "    \"\"\"Check if all boxes are on the goals (i.e. pass the game)\"\"\"\n",
        "    return sorted(posBox) == sorted(posGoals)\n",
        "\n",
        "def isLegalAction(action, posPlayer, posBox):\n",
        "    \"\"\"Check if the given action is legal\"\"\"\n",
        "    xPlayer, yPlayer = posPlayer\n",
        "    if action[-1].isupper(): # the move was a push\n",
        "        x1, y1 = xPlayer + 2 * action[0], yPlayer + 2 * action[1]\n",
        "    else:\n",
        "        x1, y1 = xPlayer + action[0], yPlayer + action[1]\n",
        "    return (x1, y1) not in posBox + posWalls\n",
        "\n",
        "def legalActions(posPlayer, posBox):\n",
        "    \"\"\"Return all legal actions for the agent in the current game state\"\"\"\n",
        "    allActions = [[-1,0,'u','U'],[1,0,'d','D'],[0,-1,'l','L'],[0,1,'r','R']]\n",
        "    xPlayer, yPlayer = posPlayer\n",
        "    legalActions = []\n",
        "    for action in allActions:\n",
        "        x1, y1 = xPlayer + action[0], yPlayer + action[1]\n",
        "        if (x1, y1) in posBox: # the move was a push\n",
        "            action.pop(2) # drop the little letter\n",
        "        else:\n",
        "            action.pop(3) # drop the upper letter\n",
        "        if isLegalAction(action, posPlayer, posBox):\n",
        "            legalActions.append(action)\n",
        "        else: \n",
        "            continue     \n",
        "    return tuple(tuple(x) for x in legalActions) # e.g. ((0, -1, 'l'), (0, 1, 'R'))\n",
        "\n",
        "def updateState(posPlayer, posBox, action):\n",
        "    \"\"\"Return updated game state after an action is taken\"\"\"\n",
        "    xPlayer, yPlayer = posPlayer # the previous position of player\n",
        "    newPosPlayer = [xPlayer + action[0], yPlayer + action[1]] # the current position of player\n",
        "    posBox = [list(x) for x in posBox]\n",
        "    if action[-1].isupper(): # if pushing, update the position of box\n",
        "        posBox.remove(newPosPlayer)\n",
        "        posBox.append([xPlayer + 2 * action[0], yPlayer + 2 * action[1]])\n",
        "    posBox = tuple(tuple(x) for x in posBox)\n",
        "    newPosPlayer = tuple(newPosPlayer)\n",
        "    return newPosPlayer, posBox\n",
        "\n",
        "def isFailed(posBox):\n",
        "    \"\"\"This function used to observe if the state is potentially failed, then prune the search\"\"\"\n",
        "    rotatePattern = [[0,1,2,3,4,5,6,7,8],\n",
        "                    [2,5,8,1,4,7,0,3,6],\n",
        "                    [0,1,2,3,4,5,6,7,8][::-1],\n",
        "                    [2,5,8,1,4,7,0,3,6][::-1]]\n",
        "    flipPattern = [[2,1,0,5,4,3,8,7,6],\n",
        "                    [0,3,6,1,4,7,2,5,8],\n",
        "                    [2,1,0,5,4,3,8,7,6][::-1],\n",
        "                    [0,3,6,1,4,7,2,5,8][::-1]]\n",
        "    allPattern = rotatePattern + flipPattern\n",
        "\n",
        "    for box in posBox:\n",
        "        if box not in posGoals:\n",
        "            board = [(box[0] - 1, box[1] - 1), (box[0] - 1, box[1]), (box[0] - 1, box[1] + 1), \n",
        "                    (box[0], box[1] - 1), (box[0], box[1]), (box[0], box[1] + 1), \n",
        "                    (box[0] + 1, box[1] - 1), (box[0] + 1, box[1]), (box[0] + 1, box[1] + 1)]\n",
        "            for pattern in allPattern:\n",
        "                newBoard = [board[i] for i in pattern]\n",
        "                if newBoard[1] in posWalls and newBoard[5] in posWalls: return True\n",
        "                elif newBoard[1] in posBox and newBoard[2] in posWalls and newBoard[5] in posWalls: return True\n",
        "                elif newBoard[1] in posBox and newBoard[2] in posWalls and newBoard[5] in posBox: return True\n",
        "                elif newBoard[1] in posBox and newBoard[2] in posBox and newBoard[5] in posBox: return True\n",
        "                elif newBoard[1] in posBox and newBoard[6] in posBox and newBoard[2] in posWalls and newBoard[3] in posWalls and newBoard[8] in posWalls: return True\n",
        "    return False"
      ],
      "metadata": {
        "id": "1EJ6PEmZhNE4"
      },
      "execution_count": 4,
      "outputs": []
    },
    {
      "cell_type": "markdown",
      "source": [],
      "metadata": {
        "id": "v_DM5WTVhXHu"
      }
    }
  ]
}