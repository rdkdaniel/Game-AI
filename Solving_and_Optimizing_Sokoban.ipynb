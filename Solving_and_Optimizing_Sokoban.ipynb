{
  "nbformat": 4,
  "nbformat_minor": 0,
  "metadata": {
    "colab": {
      "provenance": [],
      "authorship_tag": "ABX9TyMVTbhaiehTQw0wnDLD2BqF",
      "include_colab_link": true
    },
    "kernelspec": {
      "name": "python3",
      "display_name": "Python 3"
    },
    "language_info": {
      "name": "python"
    }
  },
  "cells": [
    {
      "cell_type": "markdown",
      "metadata": {
        "id": "view-in-github",
        "colab_type": "text"
      },
      "source": [
        "<a href=\"https://colab.research.google.com/github/rdkdaniel/Game-AI/blob/main/Solving_and_Optimizing_Sokoban.ipynb\" target=\"_parent\"><img src=\"https://colab.research.google.com/assets/colab-badge.svg\" alt=\"Open In Colab\"/></a>"
      ]
    },
    {
      "cell_type": "markdown",
      "source": [
        "# **Overview**"
      ],
      "metadata": {
        "id": "ZR88s7Z8w3q6"
      }
    },
    {
      "cell_type": "markdown",
      "source": [
        "In this notebook, I research and implement models/algorithms to first solve Sokobna.\n",
        "\n",
        "Thereafter, I try to optimize these solutions as well as existing ones."
      ],
      "metadata": {
        "id": "4zuJMu73wX-H"
      }
    },
    {
      "cell_type": "markdown",
      "source": [
        "Key links: \n",
        "*   https://github.com/joriswit/YASS\n",
        "*   https://timallanwheeler.com/blog/2022/01/19/basic-search-algorithms-on-sokoban/\n",
        "*   https://github.com/ndobromirov/php-sokoban\n",
        "*   List item\n",
        "\n",
        "\n"
      ],
      "metadata": {
        "id": "6i-jBVpPwsBn"
      }
    },
    {
      "cell_type": "code",
      "execution_count": null,
      "metadata": {
        "id": "v3zzrLM0wVWp"
      },
      "outputs": [],
      "source": []
    },
    {
      "cell_type": "markdown",
      "source": [
        "# **Implmenting Sokoban**"
      ],
      "metadata": {
        "id": "vGJc7O3vgVWs"
      }
    },
    {
      "cell_type": "markdown",
      "source": [
        "## **Libraries**"
      ],
      "metadata": {
        "id": "CtwE7p7Eggoi"
      }
    },
    {
      "cell_type": "code",
      "source": [
        "import sys\n",
        "import collections\n",
        "import numpy as np\n",
        "import heapq\n",
        "import time"
      ],
      "metadata": {
        "id": "Ou7uPJTZgjmX"
      },
      "execution_count": 1,
      "outputs": []
    },
    {
      "cell_type": "markdown",
      "source": [
        "## **Others**"
      ],
      "metadata": {
        "id": "jsbLw2_Og0hk"
      }
    },
    {
      "cell_type": "markdown",
      "source": [
        "**Priority DB**"
      ],
      "metadata": {
        "id": "5vcRaU38g_4t"
      }
    },
    {
      "cell_type": "code",
      "source": [
        "class PriorityQueue:\n",
        "    def  __init__(self):\n",
        "        self.Heap = []\n",
        "        self.Count = 0\n",
        "\n",
        "    def push(self, item, priority):\n",
        "        entry = (priority, self.Count, item)\n",
        "        heapq.heappush(self.Heap, entry)\n",
        "        self.Count += 1\n",
        "\n",
        "    def pop(self):\n",
        "        (_, _, item) = heapq.heappop(self.Heap)\n",
        "        return item\n",
        "\n",
        "    def isEmpty(self):\n",
        "        return len(self.Heap) == 0"
      ],
      "metadata": {
        "id": "N0A9mZpNg2X9"
      },
      "execution_count": 3,
      "outputs": []
    },
    {
      "cell_type": "markdown",
      "source": [
        "## **Loading Puzzles and Sokoban Rules**"
      ],
      "metadata": {
        "id": "GZp-MNephDg7"
      }
    },
    {
      "cell_type": "code",
      "source": [
        "def transferToGameState(layout):\n",
        "    \"\"\"Transfer the layout of initial puzzle\"\"\"\n",
        "    layout = [x.replace('\\n','') for x in layout]\n",
        "    layout = [','.join(layout[i]) for i in range(len(layout))]\n",
        "    layout = [x.split(',') for x in layout]\n",
        "    maxColsNum = max([len(x) for x in layout])\n",
        "    for irow in range(len(layout)):\n",
        "        for icol in range(len(layout[irow])):\n",
        "            if layout[irow][icol] == ' ': layout[irow][icol] = 0   # free space\n",
        "            elif layout[irow][icol] == '#': layout[irow][icol] = 1 # wall\n",
        "            elif layout[irow][icol] == '&': layout[irow][icol] = 2 # player\n",
        "            elif layout[irow][icol] == 'B': layout[irow][icol] = 3 # box\n",
        "            elif layout[irow][icol] == '.': layout[irow][icol] = 4 # goal\n",
        "            elif layout[irow][icol] == 'X': layout[irow][icol] = 5 # box on goal\n",
        "        colsNum = len(layout[irow])\n",
        "        if colsNum < maxColsNum:\n",
        "            layout[irow].extend([1 for _ in range(maxColsNum-colsNum)]) \n",
        "    return np.array(layout)\n",
        "\n",
        "def PosOfPlayer(gameState):\n",
        "    \"\"\"Return the position of agent\"\"\"\n",
        "    return tuple(np.argwhere(gameState == 2)[0]) # e.g. (2, 2)\n",
        "\n",
        "def PosOfBoxes(gameState):\n",
        "    \"\"\"Return the positions of boxes\"\"\"\n",
        "    return tuple(tuple(x) for x in np.argwhere((gameState == 3) | (gameState == 5))) # e.g. ((2, 3), (3, 4), (4, 4), (6, 1), (6, 4), (6, 5))\n",
        "\n",
        "def PosOfWalls(gameState):\n",
        "    \"\"\"Return the positions of walls\"\"\"\n",
        "    return tuple(tuple(x) for x in np.argwhere(gameState == 1)) # e.g. like those above\n",
        "\n",
        "def PosOfGoals(gameState):\n",
        "    \"\"\"Return the positions of goals\"\"\"\n",
        "    return tuple(tuple(x) for x in np.argwhere((gameState == 4) | (gameState == 5))) # e.g. like those above\n",
        "\n",
        "def isEndState(posBox):\n",
        "    \"\"\"Check if all boxes are on the goals (i.e. pass the game)\"\"\"\n",
        "    return sorted(posBox) == sorted(posGoals)\n",
        "\n",
        "def isLegalAction(action, posPlayer, posBox):\n",
        "    \"\"\"Check if the given action is legal\"\"\"\n",
        "    xPlayer, yPlayer = posPlayer\n",
        "    if action[-1].isupper(): # the move was a push\n",
        "        x1, y1 = xPlayer + 2 * action[0], yPlayer + 2 * action[1]\n",
        "    else:\n",
        "        x1, y1 = xPlayer + action[0], yPlayer + action[1]\n",
        "    return (x1, y1) not in posBox + posWalls\n",
        "\n",
        "def legalActions(posPlayer, posBox):\n",
        "    \"\"\"Return all legal actions for the agent in the current game state\"\"\"\n",
        "    allActions = [[-1,0,'u','U'],[1,0,'d','D'],[0,-1,'l','L'],[0,1,'r','R']]\n",
        "    xPlayer, yPlayer = posPlayer\n",
        "    legalActions = []\n",
        "    for action in allActions:\n",
        "        x1, y1 = xPlayer + action[0], yPlayer + action[1]\n",
        "        if (x1, y1) in posBox: # the move was a push\n",
        "            action.pop(2) # drop the little letter\n",
        "        else:\n",
        "            action.pop(3) # drop the upper letter\n",
        "        if isLegalAction(action, posPlayer, posBox):\n",
        "            legalActions.append(action)\n",
        "        else: \n",
        "            continue     \n",
        "    return tuple(tuple(x) for x in legalActions) # e.g. ((0, -1, 'l'), (0, 1, 'R'))\n",
        "\n",
        "def updateState(posPlayer, posBox, action):\n",
        "    \"\"\"Return updated game state after an action is taken\"\"\"\n",
        "    xPlayer, yPlayer = posPlayer # the previous position of player\n",
        "    newPosPlayer = [xPlayer + action[0], yPlayer + action[1]] # the current position of player\n",
        "    posBox = [list(x) for x in posBox]\n",
        "    if action[-1].isupper(): # if pushing, update the position of box\n",
        "        posBox.remove(newPosPlayer)\n",
        "        posBox.append([xPlayer + 2 * action[0], yPlayer + 2 * action[1]])\n",
        "    posBox = tuple(tuple(x) for x in posBox)\n",
        "    newPosPlayer = tuple(newPosPlayer)\n",
        "    return newPosPlayer, posBox\n",
        "\n",
        "def isFailed(posBox):\n",
        "    \"\"\"This function used to observe if the state is potentially failed, then prune the search\"\"\"\n",
        "    rotatePattern = [[0,1,2,3,4,5,6,7,8],\n",
        "                    [2,5,8,1,4,7,0,3,6],\n",
        "                    [0,1,2,3,4,5,6,7,8][::-1],\n",
        "                    [2,5,8,1,4,7,0,3,6][::-1]]\n",
        "    flipPattern = [[2,1,0,5,4,3,8,7,6],\n",
        "                    [0,3,6,1,4,7,2,5,8],\n",
        "                    [2,1,0,5,4,3,8,7,6][::-1],\n",
        "                    [0,3,6,1,4,7,2,5,8][::-1]]\n",
        "    allPattern = rotatePattern + flipPattern\n",
        "\n",
        "    for box in posBox:\n",
        "        if box not in posGoals:\n",
        "            board = [(box[0] - 1, box[1] - 1), (box[0] - 1, box[1]), (box[0] - 1, box[1] + 1), \n",
        "                    (box[0], box[1] - 1), (box[0], box[1]), (box[0], box[1] + 1), \n",
        "                    (box[0] + 1, box[1] - 1), (box[0] + 1, box[1]), (box[0] + 1, box[1] + 1)]\n",
        "            for pattern in allPattern:\n",
        "                newBoard = [board[i] for i in pattern]\n",
        "                if newBoard[1] in posWalls and newBoard[5] in posWalls: return True\n",
        "                elif newBoard[1] in posBox and newBoard[2] in posWalls and newBoard[5] in posWalls: return True\n",
        "                elif newBoard[1] in posBox and newBoard[2] in posWalls and newBoard[5] in posBox: return True\n",
        "                elif newBoard[1] in posBox and newBoard[2] in posBox and newBoard[5] in posBox: return True\n",
        "                elif newBoard[1] in posBox and newBoard[6] in posBox and newBoard[2] in posWalls and newBoard[3] in posWalls and newBoard[8] in posWalls: return True\n",
        "    return False"
      ],
      "metadata": {
        "id": "1EJ6PEmZhNE4"
      },
      "execution_count": 4,
      "outputs": []
    },
    {
      "cell_type": "markdown",
      "source": [
        "## **The Search Techniques**"
      ],
      "metadata": {
        "id": "v_DM5WTVhXHu"
      }
    },
    {
      "cell_type": "code",
      "source": [
        "def breadthFirstSearch():\n",
        "    \"\"\"Implement breadthFirstSearch approach\"\"\"\n",
        "    beginBox = PosOfBoxes(gameState)\n",
        "    beginPlayer = PosOfPlayer(gameState)\n",
        "\n",
        "    startState = (beginPlayer, beginBox) # e.g. ((2, 2), ((2, 3), (3, 4), (4, 4), (6, 1), (6, 4), (6, 5)))\n",
        "    frontier = collections.deque([[startState]]) # store states\n",
        "    actions = collections.deque([[0]]) # store actions\n",
        "    exploredSet = set()\n",
        "    while frontier:\n",
        "        node = frontier.popleft()\n",
        "        node_action = actions.popleft() \n",
        "        if isEndState(node[-1][-1]):\n",
        "            print(','.join(node_action[1:]).replace(',',''))\n",
        "            break\n",
        "        if node[-1] not in exploredSet:\n",
        "            exploredSet.add(node[-1])\n",
        "            for action in legalActions(node[-1][0], node[-1][1]):\n",
        "                newPosPlayer, newPosBox = updateState(node[-1][0], node[-1][1], action)\n",
        "                if isFailed(newPosBox):\n",
        "                    continue\n",
        "                frontier.append(node + [(newPosPlayer, newPosBox)])\n",
        "                actions.append(node_action + [action[-1]])\n",
        "\n",
        "def depthFirstSearch():\n",
        "    \"\"\"Implement depthFirstSearch approach\"\"\"\n",
        "    beginBox = PosOfBoxes(gameState)\n",
        "    beginPlayer = PosOfPlayer(gameState)\n",
        "\n",
        "    startState = (beginPlayer, beginBox)\n",
        "    frontier = collections.deque([[startState]])\n",
        "    exploredSet = set()\n",
        "    actions = [[0]] \n",
        "    while frontier:\n",
        "        node = frontier.pop()\n",
        "        node_action = actions.pop()\n",
        "        if isEndState(node[-1][-1]):\n",
        "            print(','.join(node_action[1:]).replace(',',''))\n",
        "            break\n",
        "        if node[-1] not in exploredSet:\n",
        "            exploredSet.add(node[-1])\n",
        "            for action in legalActions(node[-1][0], node[-1][1]):\n",
        "                newPosPlayer, newPosBox = updateState(node[-1][0], node[-1][1], action)\n",
        "                if isFailed(newPosBox):\n",
        "                    continue\n",
        "                frontier.append(node + [(newPosPlayer, newPosBox)])\n",
        "                actions.append(node_action + [action[-1]])\n",
        "\n",
        "def heuristic(posPlayer, posBox):\n",
        "    \"\"\"A heuristic function to calculate the overall distance between the else boxes and the else goals\"\"\"\n",
        "    distance = 0\n",
        "    completes = set(posGoals) & set(posBox)\n",
        "    sortposBox = list(set(posBox).difference(completes))\n",
        "    sortposGoals = list(set(posGoals).difference(completes))\n",
        "    for i in range(len(sortposBox)):\n",
        "        distance += (abs(sortposBox[i][0] - sortposGoals[i][0])) + (abs(sortposBox[i][1] - sortposGoals[i][1]))\n",
        "    return distance\n",
        "\n",
        "def cost(actions):\n",
        "    \"\"\"A cost function\"\"\"\n",
        "    return len([x for x in actions if x.islower()])\n",
        "\n",
        "def uniformCostSearch():\n",
        "    \"\"\"Implement uniformCostSearch approach\"\"\"\n",
        "    beginBox = PosOfBoxes(gameState)\n",
        "    beginPlayer = PosOfPlayer(gameState)\n",
        "\n",
        "    startState = (beginPlayer, beginBox)\n",
        "    frontier = PriorityQueue()\n",
        "    frontier.push([startState], 0)\n",
        "    exploredSet = set()\n",
        "    actions = PriorityQueue()\n",
        "    actions.push([0], 0)\n",
        "    while frontier:\n",
        "        node = frontier.pop()\n",
        "        node_action = actions.pop()\n",
        "        if isEndState(node[-1][-1]):\n",
        "            print(','.join(node_action[1:]).replace(',',''))\n",
        "            break\n",
        "        if node[-1] not in exploredSet:\n",
        "            exploredSet.add(node[-1])\n",
        "            Cost = cost(node_action[1:])\n",
        "            for action in legalActions(node[-1][0], node[-1][1]):\n",
        "                newPosPlayer, newPosBox = updateState(node[-1][0], node[-1][1], action)\n",
        "                if isFailed(newPosBox):\n",
        "                    continue\n",
        "                frontier.push(node + [(newPosPlayer, newPosBox)], Cost)\n",
        "                actions.push(node_action + [action[-1]], Cost)\n",
        "\n",
        "def aStarSearch():\n",
        "    \"\"\"Implement aStarSearch approach\"\"\"\n",
        "    beginBox = PosOfBoxes(gameState)\n",
        "    beginPlayer = PosOfPlayer(gameState)\n",
        "\n",
        "    start_state = (beginPlayer, beginBox)\n",
        "    frontier = PriorityQueue()\n",
        "    frontier.push([start_state], heuristic(beginPlayer, beginBox))\n",
        "    exploredSet = set()\n",
        "    actions = PriorityQueue()\n",
        "    actions.push([0], heuristic(beginPlayer, start_state[1]))\n",
        "    while frontier:\n",
        "        node = frontier.pop()\n",
        "        node_action = actions.pop()\n",
        "        if isEndState(node[-1][-1]):\n",
        "            print(','.join(node_action[1:]).replace(',',''))\n",
        "            break\n",
        "        if node[-1] not in exploredSet:\n",
        "            exploredSet.add(node[-1])\n",
        "            Cost = cost(node_action[1:])\n",
        "            for action in legalActions(node[-1][0], node[-1][1]):\n",
        "                newPosPlayer, newPosBox = updateState(node[-1][0], node[-1][1], action)\n",
        "                if isFailed(newPosBox):\n",
        "                    continue\n",
        "                Heuristic = heuristic(newPosPlayer, newPosBox)\n",
        "                frontier.push(node + [(newPosPlayer, newPosBox)], Heuristic + Cost) \n",
        "                actions.push(node_action + [action[-1]], Heuristic + Cost)"
      ],
      "metadata": {
        "id": "Nb7MSXzJhjom"
      },
      "execution_count": 5,
      "outputs": []
    },
    {
      "cell_type": "markdown",
      "source": [
        "## **The Execution Command**"
      ],
      "metadata": {
        "id": "B4gG34g6hreP"
      }
    },
    {
      "cell_type": "code",
      "source": [
        "def readCommand(argv):\n",
        "    from optparse import OptionParser\n",
        "    \n",
        "    parser = OptionParser()\n",
        "    parser.add_option('-l', '--level', dest='sokobanLevels',\n",
        "                      help='level of game to play', default='level1.txt')\n",
        "    parser.add_option('-m', '--method', dest='agentMethod',\n",
        "                      help='research method', default='bfs')\n",
        "    args = dict()\n",
        "    options, _ = parser.parse_args(argv)\n",
        "    with open('sokobanLevels/'+options.sokobanLevels,\"r\") as f: \n",
        "        layout = f.readlines()\n",
        "    args['layout'] = layout\n",
        "    args['method'] = options.agentMethod\n",
        "    return args\n",
        "\n",
        "\n",
        "if __name__ == '__main__':\n",
        "    time_start = time.time()\n",
        "    layout, method = readCommand(sys.argv[1:]).values()\n",
        "    gameState = transferToGameState(layout)\n",
        "    posWalls = PosOfWalls(gameState)\n",
        "    posGoals = PosOfGoals(gameState)\n",
        "    if method == 'astar':\n",
        "        aStarSearch()\n",
        "    elif method == 'dfs':\n",
        "        depthFirstSearch()\n",
        "    elif method == 'bfs':\n",
        "        breadthFirstSearch()\n",
        "    elif method == 'ucs':\n",
        "        uniformCostSearch()\n",
        "    else:\n",
        "        raise ValueError('Invalid method.')\n",
        "    time_end=time.time()\n",
        "    print('Runtime of %s: %.2f second.' %(method, time_end-time_start))"
      ],
      "metadata": {
        "id": "4b--zqykhzfw",
        "outputId": "836db925-6868-4e12-b19b-a090ab523b22",
        "colab": {
          "base_uri": "https://localhost:8080/",
          "height": 205
        }
      },
      "execution_count": 6,
      "outputs": [
        {
          "output_type": "stream",
          "name": "stderr",
          "text": [
            "Usage: ipykernel_launcher.py [options]\n",
            "\n",
            "ipykernel_launcher.py: error: no such option: -f\n"
          ]
        },
        {
          "output_type": "error",
          "ename": "SystemExit",
          "evalue": "ignored",
          "traceback": [
            "An exception has occurred, use %tb to see the full traceback.\n",
            "\u001b[0;31mSystemExit\u001b[0m\u001b[0;31m:\u001b[0m 2\n"
          ]
        },
        {
          "output_type": "stream",
          "name": "stderr",
          "text": [
            "/usr/local/lib/python3.8/dist-packages/IPython/core/interactiveshell.py:3334: UserWarning: To exit: use 'exit', 'quit', or Ctrl-D.\n",
            "  warn(\"To exit: use 'exit', 'quit', or Ctrl-D.\", stacklevel=1)\n"
          ]
        }
      ]
    }
  ]
}