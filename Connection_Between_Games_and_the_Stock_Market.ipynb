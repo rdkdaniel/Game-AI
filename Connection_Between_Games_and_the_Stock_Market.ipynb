{
  "nbformat": 4,
  "nbformat_minor": 0,
  "metadata": {
    "colab": {
      "provenance": [],
      "authorship_tag": "ABX9TyNkIQC+NwZlwQpwoHi/mpD2",
      "include_colab_link": true
    },
    "kernelspec": {
      "name": "python3",
      "display_name": "Python 3"
    },
    "language_info": {
      "name": "python"
    }
  },
  "cells": [
    {
      "cell_type": "markdown",
      "metadata": {
        "id": "view-in-github",
        "colab_type": "text"
      },
      "source": [
        "<a href=\"https://colab.research.google.com/github/rdkdaniel/Game-AI/blob/main/Connection_Between_Games_and_the_Stock_Market.ipynb\" target=\"_parent\"><img src=\"https://colab.research.google.com/assets/colab-badge.svg\" alt=\"Open In Colab\"/></a>"
      ]
    },
    {
      "cell_type": "markdown",
      "source": [
        "In this notebook, I review the relationship between Games and the Stock Market.\n",
        "\n",
        "I espcially focus on how Machine/Deep Learning can be applied in both with similar observations/diliverables."
      ],
      "metadata": {
        "id": "VLdFwezbNB8R"
      }
    },
    {
      "cell_type": "markdown",
      "source": [
        "Key Resources: \n",
        "\n",
        "\n",
        "*   https://www.researchgate.net/publication/46461875_The_Stock_Market_as_a_Game_An_Agent_Based_Approach_to_Trading_in_Stocks\n",
        "*   https://www.technology.org/2021/12/31/the-stock-market-as-a-game-an-agent-based-approach-to-trading-in-stocks/\n",
        "\n"
      ],
      "metadata": {
        "id": "5YCHUVlrNYkw"
      }
    },
    {
      "cell_type": "code",
      "execution_count": null,
      "metadata": {
        "id": "BHEPpjc6Mzo-"
      },
      "outputs": [],
      "source": []
    }
  ]
}