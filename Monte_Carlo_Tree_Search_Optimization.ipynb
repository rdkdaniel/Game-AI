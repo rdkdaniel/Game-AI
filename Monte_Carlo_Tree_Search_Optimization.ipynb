{
  "nbformat": 4,
  "nbformat_minor": 0,
  "metadata": {
    "colab": {
      "provenance": [],
      "authorship_tag": "ABX9TyOqhCoX/qT/D8dR6oNU0yeU",
      "include_colab_link": true
    },
    "kernelspec": {
      "name": "python3",
      "display_name": "Python 3"
    },
    "language_info": {
      "name": "python"
    }
  },
  "cells": [
    {
      "cell_type": "markdown",
      "metadata": {
        "id": "view-in-github",
        "colab_type": "text"
      },
      "source": [
        "<a href=\"https://colab.research.google.com/github/rdkdaniel/Game-AI/blob/main/Monte_Carlo_Tree_Search_Optimization.ipynb\" target=\"_parent\"><img src=\"https://colab.research.google.com/assets/colab-badge.svg\" alt=\"Open In Colab\"/></a>"
      ]
    },
    {
      "cell_type": "markdown",
      "source": [
        "https://ieeexplore.ieee.org/document/6878747\n",
        "\n",
        "https://www.researchgate.net/publication/358954203_Monte_Carlo_Simulation_Prediction_of_Stock_Prices\n",
        "\n",
        "https://www.researchgate.net/publication/292079035_Monte_Carlo_Tree_Search_Applied_to_Co-operative_Problems"
      ],
      "metadata": {
        "id": "6EfzvN9GOGoY"
      }
    },
    {
      "cell_type": "code",
      "execution_count": null,
      "metadata": {
        "id": "Nv1a9uOHMr0X"
      },
      "outputs": [],
      "source": []
    }
  ]
}